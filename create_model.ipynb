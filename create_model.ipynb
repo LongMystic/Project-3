{
 "cells": [
  {
   "cell_type": "code",
   "execution_count": 80,
   "metadata": {},
   "outputs": [],
   "source": [
    "# import lib\n",
    "import matplotlib.pyplot as plt\n",
    "import time\n",
    "from sklearn.preprocessing import MinMaxScaler\n",
    "\n",
    "from keras.models import Sequential\n",
    "from keras.layers import Dense\n",
    "from keras.layers import LSTM, SimpleRNN, GRU\n",
    "from keras.layers import Dropout\n",
    "\n",
    "from keras.models import save_model\n",
    "from sklearn.model_selection import train_test_split\n",
    "from keras.callbacks import EarlyStopping\n",
    "import joblib\n",
    "\n",
    "import pandas as pd\n",
    "import numpy as np\n",
    "import pickle"
   ]
  },
  {
   "cell_type": "code",
   "execution_count": 4,
   "metadata": {},
   "outputs": [
    {
     "data": {
      "text/html": [
       "<div>\n",
       "<style scoped>\n",
       "    .dataframe tbody tr th:only-of-type {\n",
       "        vertical-align: middle;\n",
       "    }\n",
       "\n",
       "    .dataframe tbody tr th {\n",
       "        vertical-align: top;\n",
       "    }\n",
       "\n",
       "    .dataframe thead th {\n",
       "        text-align: right;\n",
       "    }\n",
       "</style>\n",
       "<table border=\"1\" class=\"dataframe\">\n",
       "  <thead>\n",
       "    <tr style=\"text-align: right;\">\n",
       "      <th></th>\n",
       "      <th>price</th>\n",
       "      <th>warehouse_capacity</th>\n",
       "      <th>truck_capacity</th>\n",
       "    </tr>\n",
       "    <tr>\n",
       "      <th>date</th>\n",
       "      <th></th>\n",
       "      <th></th>\n",
       "      <th></th>\n",
       "    </tr>\n",
       "  </thead>\n",
       "  <tbody>\n",
       "    <tr>\n",
       "      <th>2024-01-01</th>\n",
       "      <td>85.95</td>\n",
       "      <td>61</td>\n",
       "      <td>46</td>\n",
       "    </tr>\n",
       "    <tr>\n",
       "      <th>2024-01-02</th>\n",
       "      <td>47.25</td>\n",
       "      <td>79</td>\n",
       "      <td>57</td>\n",
       "    </tr>\n",
       "    <tr>\n",
       "      <th>2024-01-03</th>\n",
       "      <td>23.61</td>\n",
       "      <td>59</td>\n",
       "      <td>68</td>\n",
       "    </tr>\n",
       "    <tr>\n",
       "      <th>2024-01-04</th>\n",
       "      <td>38.60</td>\n",
       "      <td>57</td>\n",
       "      <td>66</td>\n",
       "    </tr>\n",
       "    <tr>\n",
       "      <th>2024-01-05</th>\n",
       "      <td>38.55</td>\n",
       "      <td>61</td>\n",
       "      <td>52</td>\n",
       "    </tr>\n",
       "    <tr>\n",
       "      <th>...</th>\n",
       "      <td>...</td>\n",
       "      <td>...</td>\n",
       "      <td>...</td>\n",
       "    </tr>\n",
       "    <tr>\n",
       "      <th>2024-04-05</th>\n",
       "      <td>29.90</td>\n",
       "      <td>79</td>\n",
       "      <td>44</td>\n",
       "    </tr>\n",
       "    <tr>\n",
       "      <th>2024-04-06</th>\n",
       "      <td>2.71</td>\n",
       "      <td>64</td>\n",
       "      <td>56</td>\n",
       "    </tr>\n",
       "    <tr>\n",
       "      <th>2024-04-07</th>\n",
       "      <td>43.20</td>\n",
       "      <td>80</td>\n",
       "      <td>46</td>\n",
       "    </tr>\n",
       "    <tr>\n",
       "      <th>2024-04-08</th>\n",
       "      <td>49.39</td>\n",
       "      <td>75</td>\n",
       "      <td>58</td>\n",
       "    </tr>\n",
       "    <tr>\n",
       "      <th>2024-04-09</th>\n",
       "      <td>61.31</td>\n",
       "      <td>79</td>\n",
       "      <td>64</td>\n",
       "    </tr>\n",
       "  </tbody>\n",
       "</table>\n",
       "<p>100 rows × 3 columns</p>\n",
       "</div>"
      ],
      "text/plain": [
       "            price  warehouse_capacity  truck_capacity\n",
       "date                                                 \n",
       "2024-01-01  85.95                  61              46\n",
       "2024-01-02  47.25                  79              57\n",
       "2024-01-03  23.61                  59              68\n",
       "2024-01-04  38.60                  57              66\n",
       "2024-01-05  38.55                  61              52\n",
       "...           ...                 ...             ...\n",
       "2024-04-05  29.90                  79              44\n",
       "2024-04-06   2.71                  64              56\n",
       "2024-04-07  43.20                  80              46\n",
       "2024-04-08  49.39                  75              58\n",
       "2024-04-09  61.31                  79              64\n",
       "\n",
       "[100 rows x 3 columns]"
      ]
     },
     "execution_count": 4,
     "metadata": {},
     "output_type": "execute_result"
    }
   ],
   "source": [
    "df = pd.read_csv(\"data.csv\")\n",
    "df.set_index(\"date\")"
   ]
  },
  {
   "cell_type": "code",
   "execution_count": 5,
   "metadata": {},
   "outputs": [
    {
     "name": "stdout",
     "output_type": "stream",
     "text": [
      "<class 'pandas.core.frame.DataFrame'>\n",
      "RangeIndex: 100 entries, 0 to 99\n",
      "Data columns (total 4 columns):\n",
      " #   Column              Non-Null Count  Dtype  \n",
      "---  ------              --------------  -----  \n",
      " 0   price               100 non-null    float64\n",
      " 1   warehouse_capacity  100 non-null    int64  \n",
      " 2   truck_capacity      100 non-null    int64  \n",
      " 3   date                100 non-null    object \n",
      "dtypes: float64(1), int64(2), object(1)\n",
      "memory usage: 3.2+ KB\n"
     ]
    }
   ],
   "source": [
    "df.info()"
   ]
  },
  {
   "cell_type": "code",
   "execution_count": 6,
   "metadata": {},
   "outputs": [],
   "source": [
    "sc = MinMaxScaler(feature_range=(0, 1))"
   ]
  },
  {
   "cell_type": "code",
   "execution_count": 7,
   "metadata": {},
   "outputs": [],
   "source": [
    "df_scaled = sc.fit_transform(df[['price', 'warehouse_capacity', 'truck_capacity']])"
   ]
  },
  {
   "cell_type": "code",
   "execution_count": 8,
   "metadata": {},
   "outputs": [
    {
     "data": {
      "text/plain": [
       "<bound method DataFrame.info of     price  warehouse_capacity  truck_capacity        date\n",
       "0   85.95                  61              46  2024-01-01\n",
       "1   47.25                  79              57  2024-01-02\n",
       "2   23.61                  59              68  2024-01-03\n",
       "3   38.60                  57              66  2024-01-04\n",
       "4   38.55                  61              52  2024-01-05\n",
       "..    ...                 ...             ...         ...\n",
       "95  29.90                  79              44  2024-04-05\n",
       "96   2.71                  64              56  2024-04-06\n",
       "97  43.20                  80              46  2024-04-07\n",
       "98  49.39                  75              58  2024-04-08\n",
       "99  61.31                  79              64  2024-04-09\n",
       "\n",
       "[100 rows x 4 columns]>"
      ]
     },
     "execution_count": 8,
     "metadata": {},
     "output_type": "execute_result"
    }
   ],
   "source": [
    "df.info"
   ]
  },
  {
   "cell_type": "code",
   "execution_count": 9,
   "metadata": {},
   "outputs": [],
   "source": [
    "windows = 14\n",
    "X_train = []\n",
    "y_train = []"
   ]
  },
  {
   "cell_type": "code",
   "execution_count": 11,
   "metadata": {},
   "outputs": [],
   "source": [
    "for i in range(windows, len(df)):\n",
    "    X_train.append(df_scaled[i - windows:i])\n",
    "    y_train.append(df_scaled[i])"
   ]
  },
  {
   "cell_type": "code",
   "execution_count": 13,
   "metadata": {},
   "outputs": [
    {
     "name": "stdout",
     "output_type": "stream",
     "text": [
      "(86, 14, 3)\n",
      "(86, 3)\n"
     ]
    }
   ],
   "source": [
    "X_train = np.array(X_train)\n",
    "y_train = np.array(y_train)\n",
    "print(X_train.shape)\n",
    "print(y_train.shape)"
   ]
  },
  {
   "cell_type": "code",
   "execution_count": 31,
   "metadata": {},
   "outputs": [],
   "source": [
    "X_train, X_val, y_train, y_val = train_test_split(X_train, y_train, test_size=0.1, random_state=42)"
   ]
  },
  {
   "cell_type": "code",
   "execution_count": 46,
   "metadata": {},
   "outputs": [],
   "source": [
    "def LSTM_model():\n",
    "    model = Sequential()\n",
    "\n",
    "    # Adding the first LSTM layer and some Dropout regularisation\n",
    "    layer_1_units=64\n",
    "    model.add(LSTM(units = layer_1_units, return_sequences = True, input_shape = (X_train.shape[1], X_train.shape[2])))\n",
    "    model.add(Dropout(0.2))\n",
    "    \n",
    "    # Adding a second LSTM layer and some Dropout regularisation\n",
    "    layer_2_units=128\n",
    "    model.add(LSTM(units = layer_2_units))\n",
    "    model.add(Dropout(0.2))\n",
    "    \n",
    "    # Adding the output layer\n",
    "    model.add(Dense(units = y_train.shape[1]))\n",
    "    \n",
    "    # Compiling the RNN\n",
    "    model.compile(optimizer = 'adam', loss = 'mean_squared_error')\n",
    "\n",
    "    return model"
   ]
  },
  {
   "cell_type": "code",
   "execution_count": 65,
   "metadata": {},
   "outputs": [],
   "source": [
    "model_LSTM = LSTM_model()\n",
    "\n",
    "early_stopping = EarlyStopping(monitor='loss', patience=10, restore_best_weights=True)"
   ]
  },
  {
   "cell_type": "code",
   "execution_count": 54,
   "metadata": {},
   "outputs": [
    {
     "name": "stdout",
     "output_type": "stream",
     "text": [
      "Epoch 1/64\n",
      "2/2 [==============================] - 2s 479ms/step - loss: 0.3483 - val_loss: 0.1968\n",
      "Epoch 2/64\n",
      "2/2 [==============================] - 0s 30ms/step - loss: 0.1993 - val_loss: 0.0995\n",
      "Epoch 3/64\n",
      "2/2 [==============================] - 0s 31ms/step - loss: 0.1113 - val_loss: 0.1089\n",
      "Epoch 4/64\n",
      "2/2 [==============================] - 0s 33ms/step - loss: 0.1171 - val_loss: 0.1158\n",
      "Epoch 5/64\n",
      "2/2 [==============================] - 0s 31ms/step - loss: 0.1147 - val_loss: 0.0847\n",
      "Epoch 6/64\n",
      "2/2 [==============================] - 0s 31ms/step - loss: 0.0981 - val_loss: 0.0804\n",
      "Epoch 7/64\n",
      "2/2 [==============================] - 0s 28ms/step - loss: 0.0976 - val_loss: 0.0884\n",
      "Epoch 8/64\n",
      "2/2 [==============================] - 0s 30ms/step - loss: 0.1068 - val_loss: 0.0908\n",
      "Epoch 9/64\n",
      "2/2 [==============================] - 0s 27ms/step - loss: 0.1086 - val_loss: 0.0878\n",
      "Epoch 10/64\n",
      "2/2 [==============================] - 0s 27ms/step - loss: 0.0999 - val_loss: 0.0836\n",
      "Epoch 11/64\n",
      "2/2 [==============================] - 0s 29ms/step - loss: 0.0955 - val_loss: 0.0827\n",
      "Epoch 12/64\n",
      "2/2 [==============================] - 0s 30ms/step - loss: 0.0996 - val_loss: 0.0849\n",
      "Epoch 13/64\n",
      "2/2 [==============================] - 0s 30ms/step - loss: 0.0940 - val_loss: 0.0844\n",
      "Epoch 14/64\n",
      "2/2 [==============================] - 0s 29ms/step - loss: 0.0969 - val_loss: 0.0829\n",
      "Epoch 15/64\n",
      "2/2 [==============================] - 0s 28ms/step - loss: 0.0940 - val_loss: 0.0835\n",
      "Epoch 16/64\n",
      "2/2 [==============================] - 0s 29ms/step - loss: 0.0951 - val_loss: 0.0843\n",
      "Epoch 17/64\n",
      "2/2 [==============================] - 0s 28ms/step - loss: 0.0982 - val_loss: 0.0846\n",
      "Epoch 18/64\n",
      "2/2 [==============================] - 0s 27ms/step - loss: 0.0943 - val_loss: 0.0846\n",
      "Epoch 19/64\n",
      "2/2 [==============================] - 0s 28ms/step - loss: 0.0940 - val_loss: 0.0830\n",
      "Epoch 20/64\n",
      "2/2 [==============================] - 0s 30ms/step - loss: 0.0938 - val_loss: 0.0804\n",
      "Epoch 21/64\n",
      "2/2 [==============================] - 0s 36ms/step - loss: 0.0951 - val_loss: 0.0793\n",
      "Epoch 22/64\n",
      "2/2 [==============================] - 0s 30ms/step - loss: 0.0934 - val_loss: 0.0783\n",
      "Epoch 23/64\n",
      "2/2 [==============================] - 0s 32ms/step - loss: 0.0938 - val_loss: 0.0797\n",
      "Epoch 24/64\n",
      "2/2 [==============================] - 0s 28ms/step - loss: 0.0942 - val_loss: 0.0818\n",
      "Epoch 25/64\n",
      "2/2 [==============================] - 0s 32ms/step - loss: 0.0914 - val_loss: 0.0829\n",
      "Epoch 26/64\n",
      "2/2 [==============================] - 0s 29ms/step - loss: 0.0934 - val_loss: 0.0842\n",
      "Epoch 27/64\n",
      "2/2 [==============================] - 0s 32ms/step - loss: 0.0918 - val_loss: 0.0845\n",
      "Epoch 28/64\n",
      "2/2 [==============================] - 0s 28ms/step - loss: 0.0918 - val_loss: 0.0839\n",
      "Epoch 29/64\n",
      "2/2 [==============================] - 0s 33ms/step - loss: 0.0939 - val_loss: 0.0842\n",
      "Epoch 30/64\n",
      "2/2 [==============================] - 0s 30ms/step - loss: 0.0938 - val_loss: 0.0829\n",
      "Epoch 31/64\n",
      "2/2 [==============================] - 0s 29ms/step - loss: 0.0935 - val_loss: 0.0814\n",
      "Epoch 32/64\n",
      "2/2 [==============================] - 0s 31ms/step - loss: 0.0889 - val_loss: 0.0799\n",
      "Epoch 33/64\n",
      "2/2 [==============================] - 0s 29ms/step - loss: 0.0946 - val_loss: 0.0807\n",
      "Epoch 34/64\n",
      "2/2 [==============================] - 0s 28ms/step - loss: 0.0955 - val_loss: 0.0821\n",
      "Epoch 35/64\n",
      "2/2 [==============================] - 0s 29ms/step - loss: 0.0920 - val_loss: 0.0850\n",
      "Epoch 36/64\n",
      "2/2 [==============================] - 0s 28ms/step - loss: 0.0942 - val_loss: 0.0848\n",
      "Epoch 37/64\n",
      "2/2 [==============================] - 0s 29ms/step - loss: 0.0908 - val_loss: 0.0845\n",
      "Epoch 38/64\n",
      "2/2 [==============================] - 0s 28ms/step - loss: 0.0952 - val_loss: 0.0837\n",
      "Epoch 39/64\n",
      "2/2 [==============================] - 0s 29ms/step - loss: 0.0952 - val_loss: 0.0827\n",
      "Epoch 40/64\n",
      "2/2 [==============================] - 0s 31ms/step - loss: 0.0921 - val_loss: 0.0820\n",
      "Epoch 41/64\n",
      "2/2 [==============================] - 0s 29ms/step - loss: 0.0901 - val_loss: 0.0844\n",
      "Epoch 42/64\n",
      "2/2 [==============================] - 0s 34ms/step - loss: 0.0922 - val_loss: 0.0865\n"
     ]
    }
   ],
   "source": [
    "# Fitting the RNN to the Training set\n",
    "epoch_no=64\n",
    "batch_size=44\n",
    "history = model_LSTM.fit(X_train, y_train, epochs = epoch_no, batch_size = batch_size, callbacks=[early_stopping],\n",
    "                         validation_data=(X_val, y_val))"
   ]
  },
  {
   "cell_type": "code",
   "execution_count": 55,
   "metadata": {},
   "outputs": [
    {
     "data": {
      "image/png": "[encoded data removed]",
      "text/plain": [
       "<Figure size 800x600 with 1 Axes>"
      ]
     },
     "metadata": {},
     "output_type": "display_data"
    }
   ],
   "source": [
    "train_loss = history.history['loss']\n",
    "\n",
    "plt.figure(figsize=(8, 6))\n",
    "plt.plot(train_loss, label='Training Loss', color='blue')\n",
    "plt.title('Training Loss Over Epochs', fontsize=16)\n",
    "plt.xlabel('Epochs', fontsize=14)\n",
    "plt.ylabel('Loss', fontsize=14)\n",
    "plt.legend(fontsize=12)\n",
    "plt.grid(True)\n",
    "plt.show()"
   ]
  },
  {
   "cell_type": "code",
   "execution_count": 61,
   "metadata": {},
   "outputs": [],
   "source": [
    "def RNN_model():\n",
    "    model = Sequential()\n",
    "    \n",
    "    # Adding the first RNN layer and some Dropout regularisation\n",
    "    layer_1_units = 50\n",
    "    model.add(SimpleRNN(units=layer_1_units, return_sequences=True, input_shape=(X_train.shape[1], X_train.shape[2])))\n",
    "    model.add(Dropout(0.2))\n",
    "    \n",
    "    # Adding a second RNN layer and some Dropout regularisation\n",
    "    layer_2_units = 400\n",
    "    model.add(SimpleRNN(units=layer_2_units))\n",
    "    model.add(Dropout(0.2))\n",
    "    \n",
    "    # Adding the output layer\n",
    "    model.add(Dense(units=y_train.shape[1]))\n",
    "    \n",
    "    # Compiling the RNN\n",
    "    model.compile(optimizer='adam', loss='mean_squared_error')\n",
    "    \n",
    "    return model"
   ]
  },
  {
   "cell_type": "code",
   "execution_count": 62,
   "metadata": {},
   "outputs": [],
   "source": [
    "def GRU_model():\n",
    "    model = Sequential()\n",
    "    \n",
    "    # Adding the first GRU layer and some Dropout regularisation\n",
    "    layer_1_units = 50\n",
    "    model.add(GRU(units=layer_1_units, return_sequences=True, input_shape=(X_train.shape[1], X_train.shape[2])))\n",
    "    model.add(Dropout(0.2))\n",
    "    \n",
    "    # Adding a second GRU layer and some Dropout regularisation\n",
    "    layer_2_units = 400\n",
    "    model.add(GRU(units=layer_2_units))\n",
    "    model.add(Dropout(0.2))\n",
    "    \n",
    "    # Adding the output layer\n",
    "    model.add(Dense(units=y_train.shape[1]))\n",
    "    \n",
    "    # Compiling the GRU\n",
    "    model.compile(optimizer='adam', loss='mean_squared_error')\n",
    "    \n",
    "    return model"
   ]
  },
  {
   "cell_type": "code",
   "execution_count": 70,
   "metadata": {},
   "outputs": [
    {
     "name": "stdout",
     "output_type": "stream",
     "text": [
      "Epoch 1/64\n",
      "2/2 [==============================] - 1s 189ms/step - loss: 1.7751 - val_loss: 0.9498\n",
      "Epoch 2/64\n",
      "2/2 [==============================] - 0s 32ms/step - loss: 0.6491 - val_loss: 0.6157\n",
      "Epoch 3/64\n",
      "2/2 [==============================] - 0s 28ms/step - loss: 0.6301 - val_loss: 0.2074\n",
      "Epoch 4/64\n",
      "2/2 [==============================] - 0s 30ms/step - loss: 0.3362 - val_loss: 0.2951\n",
      "Epoch 5/64\n",
      "2/2 [==============================] - 0s 25ms/step - loss: 0.2730 - val_loss: 0.4824\n",
      "Epoch 6/64\n",
      "2/2 [==============================] - 0s 27ms/step - loss: 0.2684 - val_loss: 0.2792\n",
      "Epoch 7/64\n",
      "2/2 [==============================] - 0s 25ms/step - loss: 0.2175 - val_loss: 0.2192\n",
      "Epoch 8/64\n",
      "2/2 [==============================] - 0s 26ms/step - loss: 0.2281 - val_loss: 0.2507\n",
      "Epoch 9/64\n",
      "2/2 [==============================] - 0s 26ms/step - loss: 0.2212 - val_loss: 0.2380\n",
      "Epoch 10/64\n",
      "2/2 [==============================] - 0s 24ms/step - loss: 0.1500 - val_loss: 0.2514\n",
      "Epoch 11/64\n",
      "2/2 [==============================] - 0s 23ms/step - loss: 0.1934 - val_loss: 0.2927\n",
      "Epoch 12/64\n",
      "2/2 [==============================] - 0s 24ms/step - loss: 0.2104 - val_loss: 0.2666\n",
      "Epoch 13/64\n",
      "2/2 [==============================] - 0s 26ms/step - loss: 0.1434 - val_loss: 0.2503\n",
      "Epoch 14/64\n",
      "2/2 [==============================] - 0s 24ms/step - loss: 0.1521 - val_loss: 0.2031\n",
      "Epoch 15/64\n",
      "2/2 [==============================] - 0s 24ms/step - loss: 0.1603 - val_loss: 0.2041\n",
      "Epoch 16/64\n",
      "2/2 [==============================] - 0s 24ms/step - loss: 0.1555 - val_loss: 0.2089\n",
      "Epoch 17/64\n",
      "2/2 [==============================] - 0s 28ms/step - loss: 0.1054 - val_loss: 0.2267\n",
      "Epoch 18/64\n",
      "2/2 [==============================] - 0s 26ms/step - loss: 0.1468 - val_loss: 0.2192\n",
      "Epoch 19/64\n",
      "2/2 [==============================] - 0s 25ms/step - loss: 0.1298 - val_loss: 0.2016\n",
      "Epoch 20/64\n",
      "2/2 [==============================] - 0s 24ms/step - loss: 0.1244 - val_loss: 0.1861\n",
      "Epoch 21/64\n",
      "2/2 [==============================] - 0s 26ms/step - loss: 0.1244 - val_loss: 0.1941\n",
      "Epoch 22/64\n",
      "2/2 [==============================] - 0s 26ms/step - loss: 0.1314 - val_loss: 0.1644\n",
      "Epoch 23/64\n",
      "2/2 [==============================] - 0s 24ms/step - loss: 0.1140 - val_loss: 0.1523\n",
      "Epoch 24/64\n",
      "2/2 [==============================] - 0s 24ms/step - loss: 0.1210 - val_loss: 0.1806\n",
      "Epoch 25/64\n",
      "2/2 [==============================] - 0s 23ms/step - loss: 0.1166 - val_loss: 0.2014\n",
      "Epoch 26/64\n",
      "2/2 [==============================] - 0s 24ms/step - loss: 0.1099 - val_loss: 0.1850\n",
      "Epoch 27/64\n",
      "2/2 [==============================] - 0s 26ms/step - loss: 0.1067 - val_loss: 0.1801\n"
     ]
    }
   ],
   "source": [
    "model_rnn = RNN_model()\n",
    "history = model_rnn.fit(X_train, y_train, epochs = epoch_no, batch_size = batch_size, callbacks=[early_stopping],\n",
    "                         validation_data=(X_val, y_val))"
   ]
  },
  {
   "cell_type": "code",
   "execution_count": 71,
   "metadata": {},
   "outputs": [
    {
     "data": {
      "image/png": "[encoded data removed]",
      "text/plain": [
       "<Figure size 800x600 with 1 Axes>"
      ]
     },
     "metadata": {},
     "output_type": "display_data"
    }
   ],
   "source": [
    "train_loss = history.history['loss']\n",
    "\n",
    "plt.figure(figsize=(8, 6))\n",
    "plt.plot(train_loss, label='Training Loss', color='blue')\n",
    "plt.title('Training Loss Over Epochs', fontsize=16)\n",
    "plt.xlabel('Epochs', fontsize=14)\n",
    "plt.ylabel('Loss', fontsize=14)\n",
    "plt.legend(fontsize=12)\n",
    "plt.grid(True)\n",
    "plt.show()"
   ]
  },
  {
   "cell_type": "code",
   "execution_count": 74,
   "metadata": {},
   "outputs": [
    {
     "name": "stdout",
     "output_type": "stream",
     "text": [
      "Epoch 1/64\n",
      "2/2 [==============================] - 3s 422ms/step - loss: 0.2897 - val_loss: 0.1076\n",
      "Epoch 2/64\n",
      "2/2 [==============================] - 0s 49ms/step - loss: 0.1106 - val_loss: 0.1273\n",
      "Epoch 3/64\n",
      "2/2 [==============================] - 0s 44ms/step - loss: 0.1347 - val_loss: 0.0908\n",
      "Epoch 4/64\n",
      "2/2 [==============================] - 0s 47ms/step - loss: 0.1062 - val_loss: 0.0850\n",
      "Epoch 5/64\n",
      "2/2 [==============================] - 0s 49ms/step - loss: 0.1010 - val_loss: 0.0994\n",
      "Epoch 6/64\n",
      "2/2 [==============================] - 0s 46ms/step - loss: 0.1094 - val_loss: 0.1037\n",
      "Epoch 7/64\n",
      "2/2 [==============================] - 0s 48ms/step - loss: 0.1074 - val_loss: 0.0984\n",
      "Epoch 8/64\n",
      "2/2 [==============================] - 0s 44ms/step - loss: 0.1029 - val_loss: 0.0913\n",
      "Epoch 9/64\n",
      "2/2 [==============================] - 0s 47ms/step - loss: 0.0986 - val_loss: 0.0867\n",
      "Epoch 10/64\n",
      "2/2 [==============================] - 0s 49ms/step - loss: 0.0934 - val_loss: 0.0862\n",
      "Epoch 11/64\n",
      "2/2 [==============================] - 0s 51ms/step - loss: 0.0964 - val_loss: 0.0860\n",
      "Epoch 12/64\n",
      "2/2 [==============================] - 0s 49ms/step - loss: 0.0973 - val_loss: 0.0839\n",
      "Epoch 13/64\n",
      "2/2 [==============================] - 0s 46ms/step - loss: 0.0923 - val_loss: 0.0831\n",
      "Epoch 14/64\n",
      "2/2 [==============================] - 0s 47ms/step - loss: 0.0961 - val_loss: 0.0871\n",
      "Epoch 15/64\n",
      "2/2 [==============================] - 0s 51ms/step - loss: 0.0957 - val_loss: 0.0908\n",
      "Epoch 16/64\n",
      "2/2 [==============================] - 0s 44ms/step - loss: 0.0954 - val_loss: 0.0920\n",
      "Epoch 17/64\n",
      "2/2 [==============================] - 0s 48ms/step - loss: 0.0906 - val_loss: 0.0911\n",
      "Epoch 18/64\n",
      "2/2 [==============================] - 0s 44ms/step - loss: 0.0909 - val_loss: 0.0895\n",
      "Epoch 19/64\n",
      "2/2 [==============================] - 0s 45ms/step - loss: 0.0952 - val_loss: 0.0894\n",
      "Epoch 20/64\n",
      "2/2 [==============================] - 0s 47ms/step - loss: 0.0918 - val_loss: 0.0878\n",
      "Epoch 21/64\n",
      "2/2 [==============================] - 0s 48ms/step - loss: 0.0936 - val_loss: 0.0880\n",
      "Epoch 22/64\n",
      "2/2 [==============================] - 0s 47ms/step - loss: 0.0973 - val_loss: 0.0864\n",
      "Epoch 23/64\n",
      "2/2 [==============================] - 0s 46ms/step - loss: 0.0922 - val_loss: 0.0876\n",
      "Epoch 24/64\n",
      "2/2 [==============================] - 0s 45ms/step - loss: 0.0927 - val_loss: 0.0901\n",
      "Epoch 25/64\n",
      "2/2 [==============================] - 0s 50ms/step - loss: 0.0882 - val_loss: 0.0939\n",
      "Epoch 26/64\n",
      "2/2 [==============================] - 0s 45ms/step - loss: 0.0904 - val_loss: 0.0942\n",
      "Epoch 27/64\n",
      "2/2 [==============================] - 0s 48ms/step - loss: 0.0933 - val_loss: 0.0913\n",
      "Epoch 28/64\n",
      "2/2 [==============================] - 0s 46ms/step - loss: 0.0918 - val_loss: 0.0884\n",
      "Epoch 29/64\n",
      "2/2 [==============================] - 0s 46ms/step - loss: 0.0894 - val_loss: 0.0860\n",
      "Epoch 30/64\n",
      "2/2 [==============================] - 0s 43ms/step - loss: 0.0900 - val_loss: 0.0900\n",
      "Epoch 31/64\n",
      "2/2 [==============================] - 0s 50ms/step - loss: 0.0895 - val_loss: 0.0929\n",
      "Epoch 32/64\n",
      "2/2 [==============================] - 0s 49ms/step - loss: 0.0911 - val_loss: 0.0938\n",
      "Epoch 33/64\n",
      "2/2 [==============================] - 0s 48ms/step - loss: 0.0878 - val_loss: 0.0920\n",
      "Epoch 34/64\n",
      "2/2 [==============================] - 0s 48ms/step - loss: 0.0889 - val_loss: 0.0921\n",
      "Epoch 35/64\n",
      "2/2 [==============================] - 0s 46ms/step - loss: 0.0866 - val_loss: 0.0965\n",
      "Epoch 36/64\n",
      "2/2 [==============================] - 0s 46ms/step - loss: 0.0881 - val_loss: 0.0965\n",
      "Epoch 37/64\n",
      "2/2 [==============================] - 0s 44ms/step - loss: 0.0916 - val_loss: 0.0886\n",
      "Epoch 38/64\n",
      "2/2 [==============================] - 0s 51ms/step - loss: 0.0883 - val_loss: 0.0927\n",
      "Epoch 39/64\n",
      "2/2 [==============================] - 0s 50ms/step - loss: 0.0901 - val_loss: 0.0970\n",
      "Epoch 40/64\n",
      "2/2 [==============================] - 0s 45ms/step - loss: 0.0871 - val_loss: 0.0969\n",
      "Epoch 41/64\n",
      "2/2 [==============================] - 0s 49ms/step - loss: 0.0875 - val_loss: 0.0917\n",
      "Epoch 42/64\n",
      "2/2 [==============================] - 0s 47ms/step - loss: 0.0878 - val_loss: 0.0928\n",
      "Epoch 43/64\n",
      "2/2 [==============================] - 0s 44ms/step - loss: 0.0896 - val_loss: 0.0974\n",
      "Epoch 44/64\n",
      "2/2 [==============================] - 0s 48ms/step - loss: 0.0886 - val_loss: 0.0958\n",
      "Epoch 45/64\n",
      "2/2 [==============================] - 0s 51ms/step - loss: 0.0861 - val_loss: 0.0942\n",
      "Epoch 46/64\n",
      "2/2 [==============================] - 0s 45ms/step - loss: 0.0883 - val_loss: 0.0955\n",
      "Epoch 47/64\n",
      "2/2 [==============================] - 0s 48ms/step - loss: 0.0850 - val_loss: 0.1001\n",
      "Epoch 48/64\n",
      "2/2 [==============================] - 0s 46ms/step - loss: 0.0859 - val_loss: 0.0963\n",
      "Epoch 49/64\n",
      "2/2 [==============================] - 0s 51ms/step - loss: 0.0846 - val_loss: 0.0927\n",
      "Epoch 50/64\n",
      "2/2 [==============================] - 0s 44ms/step - loss: 0.0853 - val_loss: 0.0983\n",
      "Epoch 51/64\n",
      "2/2 [==============================] - 0s 52ms/step - loss: 0.0874 - val_loss: 0.1031\n",
      "Epoch 52/64\n",
      "2/2 [==============================] - 0s 48ms/step - loss: 0.0849 - val_loss: 0.0978\n",
      "Epoch 53/64\n",
      "2/2 [==============================] - 0s 47ms/step - loss: 0.0874 - val_loss: 0.0987\n",
      "Epoch 54/64\n",
      "2/2 [==============================] - 0s 47ms/step - loss: 0.0870 - val_loss: 0.1008\n",
      "Epoch 55/64\n",
      "2/2 [==============================] - 0s 52ms/step - loss: 0.0887 - val_loss: 0.0944\n",
      "Epoch 56/64\n",
      "2/2 [==============================] - 0s 44ms/step - loss: 0.0835 - val_loss: 0.0922\n",
      "Epoch 57/64\n",
      "2/2 [==============================] - 0s 42ms/step - loss: 0.0861 - val_loss: 0.0998\n",
      "Epoch 58/64\n",
      "2/2 [==============================] - 0s 44ms/step - loss: 0.0856 - val_loss: 0.1080\n",
      "Epoch 59/64\n",
      "2/2 [==============================] - 0s 41ms/step - loss: 0.0851 - val_loss: 0.0956\n",
      "Epoch 60/64\n",
      "2/2 [==============================] - 0s 37ms/step - loss: 0.0863 - val_loss: 0.0923\n",
      "Epoch 61/64\n",
      "2/2 [==============================] - 0s 38ms/step - loss: 0.0890 - val_loss: 0.1048\n",
      "Epoch 62/64\n",
      "2/2 [==============================] - 0s 40ms/step - loss: 0.0807 - val_loss: 0.1037\n",
      "Epoch 63/64\n",
      "2/2 [==============================] - 0s 42ms/step - loss: 0.0841 - val_loss: 0.0983\n",
      "Epoch 64/64\n",
      "2/2 [==============================] - 0s 41ms/step - loss: 0.0852 - val_loss: 0.0974\n"
     ]
    }
   ],
   "source": [
    "model_gru = GRU_model()\n",
    "history = model_gru.fit(X_train, y_train, epochs = epoch_no, batch_size = batch_size, callbacks=[early_stopping],\n",
    "                         validation_data=(X_val, y_val))"
   ]
  },
  {
   "cell_type": "code",
   "execution_count": 75,
   "metadata": {},
   "outputs": [
    {
     "data": {
      "image/png": "[encoded data removed]",
      "text/plain": [
       "<Figure size 800x600 with 1 Axes>"
      ]
     },
     "metadata": {},
     "output_type": "display_data"
    }
   ],
   "source": [
    "train_loss = history.history['loss']\n",
    "\n",
    "plt.figure(figsize=(8, 6))\n",
    "plt.plot(train_loss, label='Training Loss', color='blue')\n",
    "plt.title('Training Loss Over Epochs', fontsize=16)\n",
    "plt.xlabel('Epochs', fontsize=14)\n",
    "plt.ylabel('Loss', fontsize=14)\n",
    "plt.legend(fontsize=12)\n",
    "plt.grid(True)\n",
    "plt.show()"
   ]
  },
  {
   "cell_type": "code",
   "execution_count": 76,
   "metadata": {},
   "outputs": [
    {
     "name": "stderr",
     "output_type": "stream",
     "text": [
      "/home/long.vk@citigo.id/.local/lib/python3.8/site-packages/keras/src/engine/training.py:3000: UserWarning: You are saving your model as an HDF5 file via `model.save()`. This file format is considered legacy. We recommend using instead the native Keras format, e.g. `model.save('my_model.keras')`.\n",
      "  saving_api.save_model(\n"
     ]
    }
   ],
   "source": [
    "# save_model\n",
    "model_LSTM.save('./model_lstm.h5')\n",
    "model_rnn.save('./model_rnn.h5')\n",
    "model_gru.save('./model_gru.h5')"
   ]
  },
  {
   "cell_type": "code",
   "execution_count": 83,
   "metadata": {},
   "outputs": [
    {
     "data": {
      "text/plain": [
       "['scaler.pkl']"
      ]
     },
     "execution_count": 83,
     "metadata": {},
     "output_type": "execute_result"
    }
   ],
   "source": [
    "joblib.dump(sc, 'scaler.pkl')"
   ]
  },
  {
   "cell_type": "code",
   "execution_count": 84,
   "metadata": {},
   "outputs": [
    {
     "data": {
      "text/plain": [
       "sklearn.preprocessing._data.MinMaxScaler"
      ]
     },
     "execution_count": 84,
     "metadata": {},
     "output_type": "execute_result"
    }
   ],
   "source": [
    "type(sc)"
   ]
  },
  {
   "cell_type": "code",
   "execution_count": null,
   "metadata": {},
   "outputs": [],
   "source": []
  }
 ],
 "metadata": {
  "kernelspec": {
   "display_name": "Python 3 (ipykernel)",
   "language": "python",
   "name": "python3"
  },
  "language_info": {
   "codemirror_mode": {
    "name": "ipython",
    "version": 3
   },
   "file_extension": ".py",
   "mimetype": "text/x-python",
   "name": "python",
   "nbconvert_exporter": "python",
   "pygments_lexer": "ipython3",
   "version": "3.8.10"
  }
 },
 "nbformat": 4,
 "nbformat_minor": 4
}
